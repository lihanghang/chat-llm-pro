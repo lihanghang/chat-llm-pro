{
 "cells": [
  {
   "cell_type": "code",
   "execution_count": 2,
   "metadata": {},
   "outputs": [],
   "source": [
    "# !pip install python-dotenv\n",
    "# !pip install openai\n",
    "import os\n",
    "from dotenv import load_dotenv\n",
    "import openai\n",
    "from src.gpt import GPT, Example"
   ]
  },
  {
   "cell_type": "code",
   "execution_count": 3,
   "metadata": {},
   "outputs": [],
   "source": [
    "\n",
    "# load_dotenv()\n",
    "OPENAI_KEY = 'xx'\n",
    "# openai.api_key = os.getenv(\"OPENAI_KEY\")\n",
    "openai.api_key = OPENAI_KEY\n",
    "\n",
    "gpt = GPT(engine=\"text-davinci-003\",\n",
    "          temperature=0.6,\n",
    "          output_prefix=\"Output: \\n\\n\",\n",
    "          max_tokens=1024)"
   ]
  },
  {
   "cell_type": "code",
   "execution_count": 20,
   "metadata": {},
   "outputs": [
    {
     "name": "stdout",
     "output_type": "stream",
     "text": [
      "摘要：国产厂商未来或将训练出自己的 GPT 模型，带动算力设施产业迎来景气周期。AIGC仍有许多方面需要完善，包括在生成内容质量，版权确认保护以及商业化探索等方向。AIGC或成为未来十年最值得关注的投资方向之一。ChatGPT 的成功，显示预训练大模型的广阔应用前景 : \n",
      "\n",
      "答案：随着ChatGPT的成功，国产厂商未来可能训练出自己的GPT模型，推动算力设施产业进入景气周期，而自然语言处理的自动生成内容（AIGC）也可能成为未来十年最值得关注的投资方向之一，但仍有许多需要完善的方面，包括生成内容质量、版权确认保护以及商业化探索等。\n"
     ]
    }
   ],
   "source": [
    "[gpt.delete_example(id) for id, _ in gpt.get_all_examples().items()]\n",
    "# print(gpt.get_all_examples())\n",
    "# direct interface\n",
    "\n",
    "# summary = [\n",
    "# \"国产厂商或将训练出自己的 GPT 模型，AI 产业有望迎来景气周期\",\n",
    "# \"ChatGPT 的训练过程采用单一模型+小样本学习+人类微调监督方式进行，取得了良好效果，验证了 AI 大模型应用前景，大模型路线有望成为未来主流。\",\n",
    "# \"ChatGPT 属于 AIGC 的具体应用，相比过去的 AI 产品，在模型类型、应用领域、商业化等层面呈现出新的特点。\",\n",
    "# \"ChatGPT引发范式革命，AI产业发展前景可期\",\n",
    "# \"ChatGPT用户付费意愿弱，客户需求不及预期\",\n",
    "# \"AIGC跨越数据鸿沟，合成数据与日精进\",\n",
    "# \"ChatGPT促使AIGC快速商业化发展\",\n",
    "# \"AIGC蓬勃发展，相关厂商有望受益\",\n",
    "# \"AI 强大代码能力带来编程效率提升，软件开发公司有望率先受益。\",\n",
    "# \"ChatGPT 用户数高速成长，微软重磅发布带来办公软件AI 化方向。\",\n",
    "# \"以微软在搜索引擎与办公软件领域落地 AI 为序幕，ChatGPT 的商业化落地有望进一步提速。\",\n",
    "# \"ChatGPT 的快速渗透、落地应用，也将大幅提振算力需求。\",\n",
    "# \"在公有云上，对于全球科技大企业而言，百万至千万美元级别的训练成本并不便宜，但尚在可接受范围内。\"\n",
    "# ]\n",
    "summary_str = '''日出东方控股股份有限公司(以下简称“公司”)董事会于近日收到公司副\n",
    "总经理孙命阳先生递交的书面辞职报告，孙命阳先生因个人原因申请辞去公司\n",
    "副总经理一职，辞职后将不在公司担任任何职务。根据《公司法》、《上海证券\n",
    "交易所股票上市规则》及《公司章程》等有关规定，孙命阳先生的辞职申请自\n",
    "送达公司董事会之日起生效。\n",
    "孙命阳先生在担任公司副总经理期间恪尽职守、勤勉尽责，为促进公司规\n",
    "范运作及稳定、健康发展发挥了积极作用，公司对孙命阳先生在任职期间为公\n",
    "司发展做出的贡献表示衷心感谢！'''\n",
    "\n",
    "prompt = \"摘要：\" + summary_str\n",
    "output = gpt.get_top_reply(prompt)\n",
    "print(prompt, \":\", output)\n"
   ]
  },
  {
   "cell_type": "code",
   "execution_count": 25,
   "metadata": {},
   "outputs": [
    {
     "name": "stdout",
     "output_type": "stream",
     "text": [
      "介绍下文因互联 : Output:\n",
      "\n",
      "文因互联是国内领先的金融认知智能解决方案提供商，专注于金融机构运营管理、客户服务、风控管理、投资分析等领域，搭建以知识图谱技术、自然语言处理技术、金融知识建模等技术为核心的智能金融解决方案体系，帮助金融机构提升运营管理效率，提高客户体验，提升风险管理水平。\n"
     ]
    }
   ],
   "source": [
    "# add example\n",
    "gpt.add_example(Example(\"文因互联是什么公司\", \"文因互联是国内领先的金融认知智能解决方案的提供商，在知识图谱技术、自然语言处理技术、金融知识建模等方面有深厚积淀\"))\n",
    "gpt.add_example(Example(\"文因互联的英文名缩写是？\", \"MEMECT\"))\n",
    "# print(gpt.get_all_examples())\n",
    "\n",
    "# interface\n",
    "prompt = \"介绍下文因互联\"\n",
    "output = gpt.get_top_reply(prompt)\n",
    "print(prompt, \":\", output)"
   ]
  },
  {
   "cell_type": "code",
   "execution_count": 13,
   "metadata": {},
   "outputs": [
    {
     "name": "stdout",
     "output_type": "stream",
     "text": [
      "文因互联的核心竞争力？ : Output:\n",
      "\n",
      "文因互联的核心竞争力在于深度结合金融知识图谱技术、自然语言处理技术、金融知识建模技术等，为客户提供金融认知智能解决方案。\n"
     ]
    }
   ],
   "source": [
    "#interface\n",
    "prompt = \"文因互联的核心竞争力？\"\n",
    "output = gpt.get_top_reply(prompt)\n",
    "print(prompt, \":\", output)"
   ]
  },
  {
   "cell_type": "code",
   "execution_count": 14,
   "metadata": {},
   "outputs": [
    {
     "name": "stdout",
     "output_type": "stream",
     "text": [
      "1+6 : Output:\n",
      "\n",
      "111\n"
     ]
    }
   ],
   "source": [
    "\n",
    "gpt.add_example(Example(\"1+1 二进制的和为？\", \"100\"))\n",
    "gpt.add_example(Example(\"1+2 二进制的和为？\", \"011\"))\n",
    "gpt.add_example(Example(\"1+3 二进制的和为？\", \"100\"))\n",
    "\n",
    "prompt =\"1+6\"  # 二进制下等于111\n",
    "output = gpt.get_top_reply(prompt)\n",
    "print(prompt, \":\", output)"
   ]
  },
  {
   "cell_type": "code",
   "execution_count": 23,
   "metadata": {},
   "outputs": [
    {
     "name": "stdout",
     "output_type": "stream",
     "text": [
      "1+9 : \n",
      "10\n"
     ]
    }
   ],
   "source": [
    "# 未补充知识\n",
    "prompt =\"1+9\"  # 二进制下等于111\n",
    "output = gpt.get_top_reply(prompt)\n",
    "print(prompt, \":\", output)"
   ]
  },
  {
   "cell_type": "code",
   "execution_count": 49,
   "metadata": {},
   "outputs": [
    {
     "name": "stdout",
     "output_type": "stream",
     "text": [
      "生成的观点不要超过10个字，你超过了：文因互联是一家专注于金融认知智能解决方案的技术公司，主要为金融机构提供AI技术解决方案，涵盖知识图谱技术、自然语言处理技术、金融知识建模等，帮 助金融机构实现金融认知智能化。 : \n",
      "观点：文因互联提供AI技术解决方案，帮助金融机构实现金融认知智能化。\n"
     ]
    }
   ],
   "source": [
    "prompt = \"生成的观点不要超过10个字，你超过了：文因互联是一家专注于金融认知智能解决方案的技术公司，主要为金融机构提供AI技术解决方案，涵盖知识图谱技术、自然语言处理技术、金融知识建模等，帮 助金融机构实现金融认知智能化。\"\n",
    "output = gpt.get_top_reply(prompt)\n",
    "print(prompt, \":\", output)"
   ]
  },
  {
   "cell_type": "code",
   "execution_count": null,
   "metadata": {},
   "outputs": [],
   "source": []
  }
 ],
 "metadata": {
  "kernelspec": {
   "display_name": "Python 3 (ipykernel)",
   "language": "python",
   "name": "python3"
  },
  "language_info": {
   "codemirror_mode": {
    "name": "ipython",
    "version": 3
   },
   "file_extension": ".py",
   "mimetype": "text/x-python",
   "name": "python",
   "nbconvert_exporter": "python",
   "pygments_lexer": "ipython3",
   "version": "3.9.13"
  },
  "vscode": {
   "interpreter": {
    "hash": "5179d32cf6ec497baf3f8a3ef987cc77c5d2dc691fdde20a56316522f61a7323"
   }
  }
 },
 "nbformat": 4,
 "nbformat_minor": 4
}
